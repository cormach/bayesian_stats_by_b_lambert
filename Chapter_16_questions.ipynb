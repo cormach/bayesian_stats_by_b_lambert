{
  "nbformat": 4,
  "nbformat_minor": 0,
  "metadata": {
    "colab": {
      "name": "CmdStan-Example.ipynb",
      "provenance": [],
      "collapsed_sections": [],
      "authorship_tag": "ABX9TyP26YxJeSwd03/3qyWLN16r",
      "include_colab_link": true
    },
    "kernelspec": {
      "name": "python3",
      "display_name": "Python 3"
    }
  },
  "cells": [
    {
      "cell_type": "markdown",
      "metadata": {
        "id": "view-in-github",
        "colab_type": "text"
      },
      "source": [
        "<a href=\"https://colab.research.google.com/github/cormach/bayesian_stats_by_b_lambert/blob/master/Chapter_16_questions.ipynb\" target=\"_parent\"><img src=\"https://colab.research.google.com/assets/colab-badge.svg\" alt=\"Open In Colab\"/></a>"
      ]
    },
    {
      "cell_type": "code",
      "metadata": {
        "id": "ws5_orHDrRH6",
        "colab_type": "code",
        "colab": {}
      },
      "source": [
        "import os\n",
        "import json\n",
        "import shutil\n",
        "import urllib.request\n",
        "import pandas as pd\n",
        "import numpy as np\n",
        "import matplotlib.pyplot as plt\n"
      ],
      "execution_count": null,
      "outputs": []
    },
    {
      "cell_type": "code",
      "metadata": {
        "id": "3vnZcMXFrbCB",
        "colab_type": "code",
        "colab": {
          "base_uri": "https://localhost:8080/",
          "height": 258
        },
        "outputId": "7a46aaee-b3d5-4435-d2e7-8a71c6358a78"
      },
      "source": [
        "# Please use the latest version of CmdStanPy\n",
        "!pip install --upgrade cmdstanpy"
      ],
      "execution_count": null,
      "outputs": [
        {
          "output_type": "stream",
          "text": [
            "Collecting cmdstanpy\n",
            "  Downloading https://files.pythonhosted.org/packages/e3/e2/204c9c6beaf9e05ad28bd589c154afff35dffa6166d76841d3c0dec6c1e3/cmdstanpy-0.9.5-py3-none-any.whl\n",
            "Requirement already satisfied, skipping upgrade: pandas in /usr/local/lib/python3.6/dist-packages (from cmdstanpy) (1.0.5)\n",
            "Requirement already satisfied, skipping upgrade: numpy in /usr/local/lib/python3.6/dist-packages (from cmdstanpy) (1.18.5)\n",
            "Requirement already satisfied, skipping upgrade: pytz>=2017.2 in /usr/local/lib/python3.6/dist-packages (from pandas->cmdstanpy) (2018.9)\n",
            "Requirement already satisfied, skipping upgrade: python-dateutil>=2.6.1 in /usr/local/lib/python3.6/dist-packages (from pandas->cmdstanpy) (2.8.1)\n",
            "Requirement already satisfied, skipping upgrade: six>=1.5 in /usr/local/lib/python3.6/dist-packages (from python-dateutil>=2.6.1->pandas->cmdstanpy) (1.12.0)\n",
            "\u001b[31mERROR: fbprophet 0.6 has requirement cmdstanpy==0.4, but you'll have cmdstanpy 0.9.5 which is incompatible.\u001b[0m\n",
            "Installing collected packages: cmdstanpy\n",
            "  Found existing installation: cmdstanpy 0.4.0\n",
            "    Uninstalling cmdstanpy-0.4.0:\n",
            "      Successfully uninstalled cmdstanpy-0.4.0\n",
            "Successfully installed cmdstanpy-0.9.5\n"
          ],
          "name": "stdout"
        }
      ]
    },
    {
      "cell_type": "code",
      "metadata": {
        "id": "RXjimxTSr_ER",
        "colab_type": "code",
        "colab": {}
      },
      "source": [
        "# Install pre-built CmdStan binary\n",
        "# (faster than compiling from source via install_cmdstan() function)\n",
        "tgz_file = 'colab-cmdstan-2.23.0.tar.gz'\n",
        "tgz_url = 'https://github.com/stan-dev/cmdstan/releases/download/v2.23.0/colab-cmdstan-2.23.0.tar.gz'\n",
        "if not os.path.exists(tgz_file):\n",
        "    urllib.request.urlretrieve(tgz_url, tgz_file)\n",
        "    shutil.unpack_archive(tgz_file)"
      ],
      "execution_count": null,
      "outputs": []
    },
    {
      "cell_type": "code",
      "metadata": {
        "id": "lCBvUUUgtaXh",
        "colab_type": "code",
        "colab": {
          "base_uri": "https://localhost:8080/",
          "height": 35
        },
        "outputId": "18d079df-e9e4-41d7-f7a2-2f5a3ca442f6"
      },
      "source": [
        "# Specify CmdStan location via environment variable\n",
        "os.environ['CMDSTAN'] = './cmdstan-2.23.0'\n",
        "# Check CmdStan path\n",
        "from cmdstanpy import CmdStanModel, cmdstan_path\n",
        "cmdstan_path()"
      ],
      "execution_count": null,
      "outputs": [
        {
          "output_type": "execute_result",
          "data": {
            "application/vnd.google.colaboratory.intrinsic": {
              "type": "string"
            },
            "text/plain": [
              "'./cmdstan-2.23.0'"
            ]
          },
          "metadata": {
            "tags": []
          },
          "execution_count": 4
        }
      ]
    },
    {
      "cell_type": "code",
      "metadata": {
        "id": "O2HUCkkxTmDy",
        "colab_type": "code",
        "colab": {}
      },
      "source": [
        "stan_text = '''data {\n",
        "    int N;\n",
        "    int<lower=0> X[N];\n",
        "}\n",
        "parameters {\n",
        "    real<lower=0> mu;\n",
        "    real<lower=0> kappa;\n",
        "}\n",
        "model {\n",
        "    X ~ neg_binomial_2(mu, kappa);\n",
        "    mu ~ lognormal(2,1);\n",
        "    kappa ~lognormal(2,1);    \n",
        "}\n",
        "generated quantities {\n",
        "  int<lower=0> XSim[N];\n",
        "  for (i in 1:N)\n",
        "  {XSim[i] <- neg_binomial_2_rng(mu, kappa);}\n",
        "}'''\n",
        "with open('stan_file.stan', 'w') as f:\n",
        "  f.write(stan_text)"
      ],
      "execution_count": null,
      "outputs": []
    },
    {
      "cell_type": "code",
      "metadata": {
        "id": "DbM6Yj_dwIx3",
        "colab_type": "code",
        "colab": {
          "base_uri": "https://localhost:8080/",
          "height": 323
        },
        "outputId": "d1511b1d-c7da-4fe7-f2e8-1aa4333e24f2"
      },
      "source": [
        "!cat stan_file.stan"
      ],
      "execution_count": null,
      "outputs": [
        {
          "output_type": "stream",
          "text": [
            "data {\n",
            "    int N;\n",
            "    int<lower=0> X[N];\n",
            "}\n",
            "parameters {\n",
            "    real<lower=0> mu;\n",
            "    real<lower=0> kappa;\n",
            "}\n",
            "model {\n",
            "    X ~ neg_binomial_2(mu, kappa);\n",
            "    mu ~ lognormal(2,1);\n",
            "    kappa ~lognormal(2,1);    \n",
            "}\n",
            "generated quantities {\n",
            "  int<lower=0> XSim[N];\n",
            "  for (i in 1:N)\n",
            "  {XSim[i] <- neg_binomial_2_rng(mu, kappa);}\n",
            "}"
          ],
          "name": "stdout"
        }
      ]
    },
    {
      "cell_type": "code",
      "metadata": {
        "id": "4_32zKiGmViR",
        "colab_type": "code",
        "colab": {
          "base_uri": "https://localhost:8080/",
          "height": 68
        },
        "outputId": "563e8942-5f30-4e27-d5f5-4ff8415d56cc"
      },
      "source": [
        "stan_model = CmdStanModel(stan_file='stan_file.stan')"
      ],
      "execution_count": null,
      "outputs": [
        {
          "output_type": "stream",
          "text": [
            "INFO:cmdstanpy:compiling stan program, exe file: /content/stan_file\n",
            "INFO:cmdstanpy:compiler options: stanc_options=None, cpp_options=None\n",
            "INFO:cmdstanpy:compiled model file: /content/stan_file\n"
          ],
          "name": "stderr"
        }
      ]
    },
    {
      "cell_type": "code",
      "metadata": {
        "id": "Y0t2af4MzGnZ",
        "colab_type": "code",
        "colab": {}
      },
      "source": [
        "url='https://raw.githubusercontent.com/alexandrahotti/Solutions-to-A-Students-Guide-to-Bayesian-Statistics-by-Ben-Lambert/master/All_data/evaluation_discoveries.csv'\n",
        "df = pd.read_csv(url, error_bad_lines=False)"
      ],
      "execution_count": null,
      "outputs": []
    },
    {
      "cell_type": "code",
      "metadata": {
        "id": "yYNxcLa3zOb1",
        "colab_type": "code",
        "colab": {}
      },
      "source": [
        "data = {'X':df.discoveries.to_numpy(),'N':df.shape[0] }"
      ],
      "execution_count": null,
      "outputs": []
    },
    {
      "cell_type": "code",
      "metadata": {
        "id": "L91F4UkWzj-i",
        "colab_type": "code",
        "colab": {
          "base_uri": "https://localhost:8080/",
          "height": 153
        },
        "outputId": "ab6c6efb-1d95-406a-a918-47065de9aac7"
      },
      "source": [
        "stan_post=stan_model.sample(data=data)"
      ],
      "execution_count": null,
      "outputs": [
        {
          "output_type": "stream",
          "text": [
            "INFO:cmdstanpy:start chain 1\n",
            "INFO:cmdstanpy:finish chain 1\n",
            "INFO:cmdstanpy:start chain 2\n",
            "INFO:cmdstanpy:finish chain 2\n",
            "INFO:cmdstanpy:start chain 3\n",
            "INFO:cmdstanpy:finish chain 3\n",
            "INFO:cmdstanpy:start chain 4\n",
            "INFO:cmdstanpy:finish chain 4\n"
          ],
          "name": "stderr"
        }
      ]
    },
    {
      "cell_type": "code",
      "metadata": {
        "id": "-fdhQTBfUncO",
        "colab_type": "code",
        "colab": {
          "base_uri": "https://localhost:8080/",
          "height": 395
        },
        "outputId": "642d8d52-cae3-4e39-ae95-1a8fac8f00b7"
      },
      "source": [
        "stan_post.diagnose()"
      ],
      "execution_count": null,
      "outputs": [
        {
          "output_type": "stream",
          "text": [
            "INFO:cmdstanpy:Processing csv files: /tmp/tmpbwf68gdx/stan_file-202007120919-1-g6qu51r_.csv, /tmp/tmpbwf68gdx/stan_file-202007120919-2-pmnwhqjb.csv, /tmp/tmpbwf68gdx/stan_file-202007120919-3-nswqu5xb.csv, /tmp/tmpbwf68gdx/stan_file-202007120919-4-a5oqjwz2.csv\n",
            "\n",
            "Checking sampler transitions treedepth.\n",
            "Treedepth satisfactory for all transitions.\n",
            "\n",
            "Checking sampler transitions for divergences.\n",
            "No divergent transitions found.\n",
            "\n",
            "Checking E-BFMI - sampler transitions HMC potential energy.\n",
            "E-BFMI satisfactory for all transitions.\n",
            "\n",
            "Effective sample size satisfactory.\n",
            "\n",
            "Split R-hat values satisfactory all parameters.\n",
            "\n",
            "Processing complete, no problems detected.\n"
          ],
          "name": "stderr"
        },
        {
          "output_type": "execute_result",
          "data": {
            "application/vnd.google.colaboratory.intrinsic": {
              "type": "string"
            },
            "text/plain": [
              "'Processing csv files: /tmp/tmpbwf68gdx/stan_file-202007120919-1-g6qu51r_.csv, /tmp/tmpbwf68gdx/stan_file-202007120919-2-pmnwhqjb.csv, /tmp/tmpbwf68gdx/stan_file-202007120919-3-nswqu5xb.csv, /tmp/tmpbwf68gdx/stan_file-202007120919-4-a5oqjwz2.csv\\n\\nChecking sampler transitions treedepth.\\nTreedepth satisfactory for all transitions.\\n\\nChecking sampler transitions for divergences.\\nNo divergent transitions found.\\n\\nChecking E-BFMI - sampler transitions HMC potential energy.\\nE-BFMI satisfactory for all transitions.\\n\\nEffective sample size satisfactory.\\n\\nSplit R-hat values satisfactory all parameters.\\n\\nProcessing complete, no problems detected.'"
            ]
          },
          "metadata": {
            "tags": []
          },
          "execution_count": 11
        }
      ]
    },
    {
      "cell_type": "code",
      "metadata": {
        "id": "BQpVMeYwzniK",
        "colab_type": "code",
        "colab": {
          "base_uri": "https://localhost:8080/",
          "height": 173
        },
        "outputId": "2642ba6a-1d00-4cb3-cade-3e50a64f1aa3"
      },
      "source": [
        "stan_post.summary().round(decimals=3).iloc[1:4,:]"
      ],
      "execution_count": null,
      "outputs": [
        {
          "output_type": "execute_result",
          "data": {
            "text/html": [
              "<div>\n",
              "<style scoped>\n",
              "    .dataframe tbody tr th:only-of-type {\n",
              "        vertical-align: middle;\n",
              "    }\n",
              "\n",
              "    .dataframe tbody tr th {\n",
              "        vertical-align: top;\n",
              "    }\n",
              "\n",
              "    .dataframe thead th {\n",
              "        text-align: right;\n",
              "    }\n",
              "</style>\n",
              "<table border=\"1\" class=\"dataframe\">\n",
              "  <thead>\n",
              "    <tr style=\"text-align: right;\">\n",
              "      <th></th>\n",
              "      <th>Mean</th>\n",
              "      <th>MCSE</th>\n",
              "      <th>StdDev</th>\n",
              "      <th>5%</th>\n",
              "      <th>50%</th>\n",
              "      <th>95%</th>\n",
              "      <th>N_Eff</th>\n",
              "      <th>N_Eff/s</th>\n",
              "      <th>R_hat</th>\n",
              "    </tr>\n",
              "    <tr>\n",
              "      <th>name</th>\n",
              "      <th></th>\n",
              "      <th></th>\n",
              "      <th></th>\n",
              "      <th></th>\n",
              "      <th></th>\n",
              "      <th></th>\n",
              "      <th></th>\n",
              "      <th></th>\n",
              "      <th></th>\n",
              "    </tr>\n",
              "  </thead>\n",
              "  <tbody>\n",
              "    <tr>\n",
              "      <th>mu</th>\n",
              "      <td>3.116</td>\n",
              "      <td>0.004</td>\n",
              "      <td>0.222</td>\n",
              "      <td>2.765</td>\n",
              "      <td>3.111</td>\n",
              "      <td>3.494</td>\n",
              "      <td>2677.29</td>\n",
              "      <td>2965.63</td>\n",
              "      <td>1.000</td>\n",
              "    </tr>\n",
              "    <tr>\n",
              "      <th>kappa</th>\n",
              "      <td>7.056</td>\n",
              "      <td>0.128</td>\n",
              "      <td>4.400</td>\n",
              "      <td>3.293</td>\n",
              "      <td>6.002</td>\n",
              "      <td>13.630</td>\n",
              "      <td>1175.12</td>\n",
              "      <td>1301.67</td>\n",
              "      <td>1.005</td>\n",
              "    </tr>\n",
              "    <tr>\n",
              "      <th>XSim[1]</th>\n",
              "      <td>3.150</td>\n",
              "      <td>0.036</td>\n",
              "      <td>2.252</td>\n",
              "      <td>0.000</td>\n",
              "      <td>3.000</td>\n",
              "      <td>7.000</td>\n",
              "      <td>3987.55</td>\n",
              "      <td>4417.00</td>\n",
              "      <td>1.000</td>\n",
              "    </tr>\n",
              "  </tbody>\n",
              "</table>\n",
              "</div>"
            ],
            "text/plain": [
              "          Mean   MCSE  StdDev     5%    50%     95%    N_Eff  N_Eff/s  R_hat\n",
              "name                                                                        \n",
              "mu       3.116  0.004   0.222  2.765  3.111   3.494  2677.29  2965.63  1.000\n",
              "kappa    7.056  0.128   4.400  3.293  6.002  13.630  1175.12  1301.67  1.005\n",
              "XSim[1]  3.150  0.036   2.252  0.000  3.000   7.000  3987.55  4417.00  1.000"
            ]
          },
          "metadata": {
            "tags": []
          },
          "execution_count": 12
        }
      ]
    },
    {
      "cell_type": "code",
      "metadata": {
        "id": "koFi5GijUl-y",
        "colab_type": "code",
        "colab": {}
      },
      "source": [
        ""
      ],
      "execution_count": null,
      "outputs": []
    },
    {
      "cell_type": "code",
      "metadata": {
        "id": "E-tiKF2ZJP0O",
        "colab_type": "code",
        "colab": {}
      },
      "source": [
        "stan_sample = stan_post.get_drawset()"
      ],
      "execution_count": null,
      "outputs": []
    },
    {
      "cell_type": "code",
      "metadata": {
        "id": "n0ut9OaUKPwH",
        "colab_type": "code",
        "colab": {}
      },
      "source": [
        "stan_sample.drop(columns=['lp__', 'accept_stat__','stepsize__', 'treedepth__', 'n_leapfrog__',\n",
        "       'divergent__', 'energy__', 'mu','kappa'], inplace=True)"
      ],
      "execution_count": null,
      "outputs": []
    },
    {
      "cell_type": "code",
      "metadata": {
        "id": "MlZqVBgqKSCq",
        "colab_type": "code",
        "colab": {}
      },
      "source": [
        "posterior_checks_max =np.amax(stan_sample, axis=1)"
      ],
      "execution_count": null,
      "outputs": []
    },
    {
      "cell_type": "code",
      "metadata": {
        "id": "DfC3kXaWLTfF",
        "colab_type": "code",
        "colab": {
          "base_uri": "https://localhost:8080/",
          "height": 34
        },
        "outputId": "7b4e2e6a-9fbb-4173-8ad7-4c6ed91679f8"
      },
      "source": [
        "(posterior_checks_max >=12).sum()/float(len(posterior_checks_max))"
      ],
      "execution_count": null,
      "outputs": [
        {
          "output_type": "execute_result",
          "data": {
            "text/plain": [
              "0.245"
            ]
          },
          "metadata": {
            "tags": []
          },
          "execution_count": 16
        }
      ]
    },
    {
      "cell_type": "code",
      "metadata": {
        "id": "Sgr3PgbPLezx",
        "colab_type": "code",
        "colab": {
          "base_uri": "https://localhost:8080/",
          "height": 299
        },
        "outputId": "565e4730-5a43-416c-c0f9-5c439180aedd"
      },
      "source": [
        "(df.discoveries-stan_sample['XSim.1']).dropna().plot()"
      ],
      "execution_count": null,
      "outputs": [
        {
          "output_type": "stream",
          "text": [
            "INFO:numexpr.utils:NumExpr defaulting to 2 threads.\n"
          ],
          "name": "stderr"
        },
        {
          "output_type": "execute_result",
          "data": {
            "text/plain": [
              "<matplotlib.axes._subplots.AxesSubplot at 0x7f467bff5c18>"
            ]
          },
          "metadata": {
            "tags": []
          },
          "execution_count": 18
        },
        {
          "output_type": "display_data",
          "data": {
            "image/png": "[encoded data removed]",
            "text/plain": [
              "<Figure size 432x288 with 1 Axes>"
            ]
          },
          "metadata": {
            "tags": [],
            "needs_background": "light"
          }
        }
      ]
    },
    {
      "cell_type": "code",
      "metadata": {
        "id": "tBR-FIrbOFzD",
        "colab_type": "code",
        "colab": {
          "base_uri": "https://localhost:8080/",
          "height": 418
        },
        "outputId": "27b97088-12bc-491d-922a-56d5c75359fb"
      },
      "source": [
        "plt.acorr((df.discoveries-stan_sample['XSim.1']).dropna())"
      ],
      "execution_count": null,
      "outputs": [
        {
          "output_type": "execute_result",
          "data": {
            "text/plain": [
              "(array([-10,  -9,  -8,  -7,  -6,  -5,  -4,  -3,  -2,  -1,   0,   1,   2,\n",
              "          3,   4,   5,   6,   7,   8,   9,  10]),\n",
              " array([ 0.06085919,  0.150358  ,  0.19689737, -0.00477327,  0.00596659,\n",
              "         0.12291169,  0.1575179 ,  0.13365155, -0.02267303,  0.1372315 ,\n",
              "         1.        ,  0.1372315 , -0.02267303,  0.13365155,  0.1575179 ,\n",
              "         0.12291169,  0.00596659, -0.00477327,  0.19689737,  0.150358  ,\n",
              "         0.06085919]),\n",
              " <matplotlib.collections.LineCollection at 0x7f467bceacc0>,\n",
              " <matplotlib.lines.Line2D at 0x7f467bcf9400>)"
            ]
          },
          "metadata": {
            "tags": []
          },
          "execution_count": 19
        },
        {
          "output_type": "display_data",
          "data": {
            "image/png": "[encoded data removed]",
            "text/plain": [
              "<Figure size 432x288 with 1 Axes>"
            ]
          },
          "metadata": {
            "tags": [],
            "needs_background": "light"
          }
        }
      ]
    },
    {
      "cell_type": "code",
      "metadata": {
        "id": "SVGZRYTjPhr2",
        "colab_type": "code",
        "colab": {}
      },
      "source": [
        ""
      ],
      "execution_count": null,
      "outputs": []
    }
  ]
}